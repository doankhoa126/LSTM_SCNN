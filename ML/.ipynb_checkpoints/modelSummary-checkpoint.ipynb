{
 "cells": [
  {
   "cell_type": "code",
   "execution_count": 19,
   "id": "382be9b2",
   "metadata": {},
   "outputs": [],
   "source": [
    "import pandas as pd\n",
    "import numpy as np\n",
    "import time\n",
    "import matplotlib.pyplot as plt\n",
    "from tabulate import tabulate\n",
    "from IPython.display import display, HTML\n",
    "import seaborn as sns\n",
    "from tensorflow import keras\n",
    "from keras.models import Sequential\n",
    "from keras.layers import Dense,RepeatVector,Dropout\n",
    "from keras.layers import Flatten\n",
    "# from tensorflow.keras.layers import Conv1D\n",
    "# from tensorflow.keras.layers import MaxPooling1D\n",
    "from sklearn.metrics import mean_absolute_percentage_error\n",
    "from sklearn.metrics import mean_squared_error\n",
    "from sklearn.preprocessing import MinMaxScaler\n",
    "from sklearn.metrics import mean_absolute_error\n"
   ]
  },
  {
   "cell_type": "markdown",
   "id": "a2a728f2",
   "metadata": {},
   "source": [
    "<h2>SCNN-LUCAS</h2>\n",
    "<h4>(Simple Exponential Smoothing kết hợp CNN với số lớp Fully Connected layer là số Lucas)</h4>"
   ]
  },
  {
   "cell_type": "code",
   "execution_count": 20,
   "id": "53c6ad37",
   "metadata": {},
   "outputs": [],
   "source": [
    "import h5py\n",
    "\n",
    "from keras.models import load_model\n",
    "\n",
    "model_SCNN_Lucas = load_model('SCNN.h5')\n",
    "\n",
    "\n",
    "with h5py.File(\"SCNN_data.h5\", \"r\") as file:\n",
    "\n",
    "    y_test_SCNN_Lucas = file[\"y_test\"][:]\n",
    "    X_test_SCNN_Lucas = file[\"X_test\"][:]\n",
    "    time_SCNN_Lucas = file[\"training_time\"][()]\n",
    "    alpha = file[\"alpha\"][()]\n",
    "    S = file[\"S\"][:]\n",
    "    dataScale = file[\"dataScale\"][:]"
   ]
  },
  {
   "cell_type": "code",
   "execution_count": 21,
   "id": "751cbaf9",
   "metadata": {},
   "outputs": [
    {
     "name": "stdout",
     "output_type": "stream",
     "text": [
      "Model: \"sequential\"\n",
      "_________________________________________________________________\n",
      " Layer (type)                Output Shape              Param #   \n",
      "=================================================================\n",
      " conv1d (Conv1D)             (None, 5, 32)             128       \n",
      "                                                                 \n",
      " max_pooling1d (MaxPooling1  (None, 2, 32)             0         \n",
      " D)                                                              \n",
      "                                                                 \n",
      " flatten (Flatten)           (None, 64)                0         \n",
      "                                                                 \n",
      " dense (Dense)               (None, 100)               6500      \n",
      "                                                                 \n",
      " dropout (Dropout)           (None, 100)               0         \n",
      "                                                                 \n",
      " dense_1 (Dense)             (None, 1)                 101       \n",
      "                                                                 \n",
      " dense_2 (Dense)             (None, 100)               200       \n",
      "                                                                 \n",
      " dropout_1 (Dropout)         (None, 100)               0         \n",
      "                                                                 \n",
      " dense_3 (Dense)             (None, 1)                 101       \n",
      "                                                                 \n",
      " dense_4 (Dense)             (None, 100)               200       \n",
      "                                                                 \n",
      " dropout_2 (Dropout)         (None, 100)               0         \n",
      "                                                                 \n",
      " dense_5 (Dense)             (None, 1)                 101       \n",
      "                                                                 \n",
      " dense_6 (Dense)             (None, 100)               200       \n",
      "                                                                 \n",
      " dropout_3 (Dropout)         (None, 100)               0         \n",
      "                                                                 \n",
      " dense_7 (Dense)             (None, 1)                 101       \n",
      "                                                                 \n",
      "=================================================================\n",
      "Total params: 7632 (29.81 KB)\n",
      "Trainable params: 7632 (29.81 KB)\n",
      "Non-trainable params: 0 (0.00 Byte)\n",
      "_________________________________________________________________\n"
     ]
    }
   ],
   "source": [
    "model_SCNN_Lucas.summary()"
   ]
  },
  {
   "cell_type": "code",
   "execution_count": 22,
   "id": "486ed69e",
   "metadata": {},
   "outputs": [
    {
     "name": "stderr",
     "output_type": "stream",
     "text": [
      "C:\\Users\\doank\\AppData\\Local\\Temp\\ipykernel_18528\\727154278.py:6: UserWarning: \n",
      "\n",
      "`distplot` is a deprecated function and will be removed in seaborn v0.14.0.\n",
      "\n",
      "Please adapt your code to use either `displot` (a figure-level function with\n",
      "similar flexibility) or `histplot` (an axes-level function for histograms).\n",
      "\n",
      "For a guide to updating your code to use the new functions, please see\n",
      "https://gist.github.com/mwaskom/de44147ed2974457ad6372750bbe5751\n",
      "\n",
      "  sns.distplot(dataScale, ax=axs[0], color='y')\n",
      "C:\\Users\\doank\\AppData\\Local\\Temp\\ipykernel_18528\\727154278.py:9: UserWarning: \n",
      "\n",
      "`distplot` is a deprecated function and will be removed in seaborn v0.14.0.\n",
      "\n",
      "Please adapt your code to use either `displot` (a figure-level function with\n",
      "similar flexibility) or `histplot` (an axes-level function for histograms).\n",
      "\n",
      "For a guide to updating your code to use the new functions, please see\n",
      "https://gist.github.com/mwaskom/de44147ed2974457ad6372750bbe5751\n",
      "\n",
      "  sns.distplot(S, ax=axs[1])\n"
     ]
    },
    {
     "data": {
      "image/png": "[encoded data removed]",
      "text/plain": [
       "<Figure size 640x480 with 2 Axes>"
      ]
     },
     "metadata": {},
     "output_type": "display_data"
    }
   ],
   "source": [
    "import matplotlib.pyplot as plt\n",
    "import seaborn as sns\n",
    "\n",
    "fig, axs = plt.subplots(1, 2)\n",
    "\n",
    "sns.distplot(dataScale, ax=axs[0], color='y')\n",
    "axs[0].set_title(\"Original Data\")\n",
    "\n",
    "sns.distplot(S, ax=axs[1])\n",
    "axs[1].set_title(\"Smooth Data\" + \", alpha=\" + \"{:.2f}\".format(alpha % 1))\n",
    "\n",
    "\n",
    "fig.subplots_adjust(wspace=0.5) \n",
    "\n",
    "plt.show()\n"
   ]
  },
  {
   "cell_type": "code",
   "execution_count": 23,
   "id": "cf9304d5",
   "metadata": {},
   "outputs": [
    {
     "name": "stdout",
     "output_type": "stream",
     "text": [
      "10/10 [==============================] - 2s 1ms/step\n",
      "MSE:  0.0013391902299780092\n",
      "RMSE:  0.03659494814831699\n",
      "MAPE:  0.07499422254126249\n",
      "MAE:  0.02985614076450121\n",
      "Time:  255.16199326515198\n"
     ]
    }
   ],
   "source": [
    "y_pred_SCNN_Lucas = model_SCNN_Lucas.predict(X_test_SCNN_Lucas)\n",
    "y_pred_SCNN_Lucas = np.reshape(y_pred_SCNN_Lucas, (-1, 1))\n",
    "mse_SCNN_Lucas = mean_squared_error(y_test_SCNN_Lucas, y_pred_SCNN_Lucas)\n",
    "rmse_SCNN_Lucas = np.sqrt(mse_SCNN_Lucas)\n",
    "mape_SCNN_Lucas = mean_absolute_percentage_error(y_test_SCNN_Lucas, y_pred_SCNN_Lucas)\n",
    "mae_SCNN_Lucas = mean_absolute_error(y_test_SCNN_Lucas, y_pred_SCNN_Lucas)\n",
    "\n",
    "print('MSE: ', mse_SCNN_Lucas)\n",
    "print('RMSE: ', rmse_SCNN_Lucas)\n",
    "print('MAPE: ', mape_SCNN_Lucas)\n",
    "print('MAE: ', mae_SCNN_Lucas)\n",
    "print('Time: ', time_SCNN_Lucas)"
   ]
  },
  {
   "cell_type": "markdown",
   "id": "903b7aa1",
   "metadata": {},
   "source": [
    "<h2>LSTM</h2>"
   ]
  },
  {
   "cell_type": "code",
   "execution_count": 24,
   "id": "10ff8761",
   "metadata": {},
   "outputs": [],
   "source": [
    "import h5py\n",
    "from keras.models import load_model\n",
    "from sklearn.metrics import mean_absolute_percentage_error\n",
    "from sklearn.metrics import mean_squared_error\n",
    "\n",
    "# Load model từ file H5\n",
    "model_LSTM = load_model('LSTM.h5')\n",
    "\n",
    "# Đọc file H5\n",
    "with h5py.File('LSTM_data.h5', 'r') as f:\n",
    "    # Lấy giá trị y_test\n",
    "    y_test_LSTM = f['y_test'][:]\n",
    "    \n",
    "    # Lấy giá trị X_test\n",
    "    X_test_LSTM = f['X_test'][:]\n",
    "    \n",
    "    # Lấy giá trị training_time\n",
    "    time_LSTM = f['training_time'][()]\n"
   ]
  },
  {
   "cell_type": "code",
   "execution_count": 25,
   "id": "cff7edf4",
   "metadata": {},
   "outputs": [
    {
     "name": "stdout",
     "output_type": "stream",
     "text": [
      "Model: \"sequential\"\n",
      "_________________________________________________________________\n",
      " Layer (type)                Output Shape              Param #   \n",
      "=================================================================\n",
      " lstm (LSTM)                 (None, 7, 50)             10400     \n",
      "                                                                 \n",
      " lstm_1 (LSTM)               (None, 50)                20200     \n",
      "                                                                 \n",
      " dense (Dense)               (None, 1)                 51        \n",
      "                                                                 \n",
      "=================================================================\n",
      "Total params: 30651 (119.73 KB)\n",
      "Trainable params: 30651 (119.73 KB)\n",
      "Non-trainable params: 0 (0.00 Byte)\n",
      "_________________________________________________________________\n"
     ]
    }
   ],
   "source": [
    "model_LSTM.summary()"
   ]
  },
  {
   "cell_type": "code",
   "execution_count": 26,
   "id": "e7d579ad",
   "metadata": {},
   "outputs": [
    {
     "name": "stdout",
     "output_type": "stream",
     "text": [
      "10/10 [==============================] - 1s 2ms/step\n",
      "MSE:  0.0034515234692625396\n",
      "RMSE:  0.0587496678225719\n",
      "MAPE:  0.10350881328835329\n",
      "MAE:  0.04719433634972769\n",
      "Time:  682.850058555603\n"
     ]
    }
   ],
   "source": [
    "y_pred_LSTM = model_LSTM.predict(X_test_LSTM)\n",
    "y_pred_LSTM = np.reshape(y_pred_LSTM, (-1, 1))\n",
    "mse_LSTM = mean_squared_error(y_test_LSTM, y_pred_LSTM)\n",
    "rmse_LSTM = np.sqrt(mse_LSTM)\n",
    "mape_LSTM = mean_absolute_percentage_error(y_test_LSTM, y_pred_LSTM)\n",
    "mae_LSTM = mean_absolute_error(y_test_LSTM, y_pred_LSTM)\n",
    "\n",
    "print('MSE: ', mse_LSTM)\n",
    "print('RMSE: ', rmse_LSTM)\n",
    "print('MAPE: ', mape_LSTM)\n",
    "print('MAE: ', mae_LSTM)\n",
    "print('Time: ', time_LSTM)"
   ]
  },
  {
   "cell_type": "markdown",
   "id": "4681b178",
   "metadata": {},
   "source": [
    "<h2>Summary </h2>"
   ]
  },
  {
   "cell_type": "code",
   "execution_count": 35,
   "id": "a7a7eaee",
   "metadata": {},
   "outputs": [],
   "source": [
    "from tabulate import tabulate\n",
    "\n",
    "# Assume you have the following lists\n",
    "models = [\"S-CNN-Lucas\", \"LSTM\"]\n",
    "mse_values = [mse_SCNN_Lucas, mse_LSTM]\n",
    "rmse_values = [rmse_SCNN_Lucas, rmse_LSTM]\n",
    "mape_values = [mape_SCNN_Lucas, mape_LSTM]\n",
    "mae_values = [mae_SCNN_Lucas, mae_LSTM]\n",
    "time_values = [time_SCNN_Lucas, time_LSTM]\n",
    "\n",
    "# Create a table\n",
    "table = [[\"MoHinh\", \"MSE\", \"RMSE\", \"MAPE\", \"MAE\", \"TIME\"]]\n",
    "\n",
    "# Append values to the table\n",
    "for i in range(len(models)):\n",
    "    table.append([models[i], mse_values[i], rmse_values[i], mape_values[i], mae_values[i], time_values[i]])"
   ]
  },
  {
   "cell_type": "code",
   "execution_count": 36,
   "id": "472ac305",
   "metadata": {},
   "outputs": [
    {
     "data": {
      "text/html": [
       "<h3 style='text-align: center; color: green;'>Bảng tổng kết MSE, RMSE, MAPE , TIME của S-CNN, S-CNN-LUCAS, LSTM</h3>"
      ],
      "text/plain": [
       "<IPython.core.display.HTML object>"
      ]
     },
     "metadata": {},
     "output_type": "display_data"
    },
    {
     "name": "stdout",
     "output_type": "stream",
     "text": [
      "╒═════════════╤════════════╤═══════════╤═══════════╤═══════════╤═════════╕\n",
      "│ MoHinh      │        MSE │      RMSE │      MAPE │       MAE │    TIME │\n",
      "╞═════════════╪════════════╪═══════════╪═══════════╪═══════════╪═════════╡\n",
      "│ S-CNN-Lucas │ 0.00133919 │ 0.0365949 │ 0.0749942 │ 0.0298561 │ 255.162 │\n",
      "├─────────────┼────────────┼───────────┼───────────┼───────────┼─────────┤\n",
      "│ LSTM        │ 0.00345152 │ 0.0587497 │ 0.103509  │ 0.0471943 │ 682.85  │\n",
      "╘═════════════╧════════════╧═══════════╧═══════════╧═══════════╧═════════╛\n"
     ]
    }
   ],
   "source": [
    "title_table = \"<h3 style='text-align: center; color: green;'>Bảng tổng kết MSE, RMSE, MAPE , TIME của S-CNN, S-CNN-LUCAS, LSTM</h3>\"\n",
    "\n",
    "display(HTML(title_table))\n",
    "\n",
    "print(tabulate(table, headers=\"firstrow\", tablefmt=\"fancy_grid\"))"
   ]
  },
  {
   "cell_type": "markdown",
   "id": "bd179791",
   "metadata": {},
   "source": [
    "<h2>Recommend</h2>"
   ]
  },
  {
   "cell_type": "code",
   "execution_count": 47,
   "id": "5d0912d1",
   "metadata": {},
   "outputs": [
    {
     "name": "stdout",
     "output_type": "stream",
     "text": [
      "['MoHinh', 'MSE', 'RMSE', 'MAPE', 'MAE', 'TIME']\n",
      "['S-CNN-Lucas', 0.0013391902299780092, 0.03659494814831699, 0.07499422254126249, 0.02985614076450121, 255.16199326515198]\n",
      "['LSTM', 0.0034515234692625396, 0.0587496678225719, 0.10350881328835329, 0.04719433634972769, 682.850058555603]\n"
     ]
    }
   ],
   "source": [
    "\n",
    "# Function to determine the best model based on criteria\n",
    "def determine_best_model(model1, model2):\n",
    "    # You can define your own criteria for comparison\n",
    "    # For example, you might prefer lower values for MSE, RMSE, MAE, MAPE, and lower time\n",
    "    criteria1 = model1[1] + model1[2] + model1[3] + model1[4] + model1[5]\n",
    "    criteria2 = model2[1] + model2[2] + model2[3] + model2[4] + model2[5]\n",
    "    \n",
    "    if criteria1 < criteria2:\n",
    "        return model1[0]\n",
    "    elif criteria2 < criteria1:\n",
    "        return model2[0]\n",
    "    else:\n",
    "        return \"No\"\n",
    "\n",
    "# Compare models\n",
    "best_model = determine_best_model(table[1], table[2])\n",
    "\n",
    "# Print the table and the best model\n",
    "for row in table:\n",
    "    print(row)\n"
   ]
  },
  {
   "cell_type": "code",
   "execution_count": 59,
   "id": "2f52fa0a",
   "metadata": {},
   "outputs": [
    {
     "name": "stdout",
     "output_type": "stream",
     "text": [
      "Price recommend: 48.718\n"
     ]
    }
   ],
   "source": [
    "if best_model=='S-CNN-Lucas':\n",
    "     price_recommend= y_pred_SCNN_Lucas[-1][0]\n",
    "elif best_model=='LSTM':\n",
    "     price_recommend= y_pred_LSTM[-1][0]\n",
    "print('Price recommend:',round(price_recommend*100,4))"
   ]
  },
  {
   "cell_type": "code",
   "execution_count": null,
   "id": "5ad1b73a",
   "metadata": {},
   "outputs": [],
   "source": []
  }
 ],
 "metadata": {
  "kernelspec": {
   "display_name": "Python 3 (ipykernel)",
   "language": "python",
   "name": "python3"
  },
  "language_info": {
   "codemirror_mode": {
    "name": "ipython",
    "version": 3
   },
   "file_extension": ".py",
   "mimetype": "text/x-python",
   "name": "python",
   "nbconvert_exporter": "python",
   "pygments_lexer": "ipython3",
   "version": "3.11.3"
  }
 },
 "nbformat": 4,
 "nbformat_minor": 5
}
