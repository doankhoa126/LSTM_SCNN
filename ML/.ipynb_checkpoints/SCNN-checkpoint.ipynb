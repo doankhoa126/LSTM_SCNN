{
 "cells": [
  {
   "cell_type": "markdown",
   "id": "67eb3f4e",
   "metadata": {},
   "source": [
    "<h2>S-CNN-LUCAS</h2>"
   ]
  },
  {
   "cell_type": "code",
   "execution_count": 40,
   "id": "ee0828e3",
   "metadata": {},
   "outputs": [],
   "source": [
    "import pandas as pd\n",
    "import numpy as np\n",
    "import time\n",
    "from keras.models import Sequential\n",
    "from keras.layers import Dense,RepeatVector,Dropout\n",
    "from keras.layers import Flatten\n",
    "from keras.layers.convolutional import Conv1D\n",
    "from keras.layers.convolutional import MaxPooling1D\n",
    "from sklearn.preprocessing import MinMaxScaler\n",
    "import matplotlib.pyplot as plt\n",
    "from sklearn.metrics import mean_absolute_percentage_error\n",
    "from sklearn.metrics import mean_squared_error"
   ]
  },
  {
   "cell_type": "code",
   "execution_count": 55,
   "id": "cfa299df",
   "metadata": {},
   "outputs": [],
   "source": [
    "import warnings\n",
    "\n",
    "warnings.filterwarnings(\"ignore\")"
   ]
  },
  {
   "cell_type": "code",
   "execution_count": 56,
   "id": "5cda8a88",
   "metadata": {},
   "outputs": [
    {
     "name": "stdout",
     "output_type": "stream",
     "text": [
      "         Date Ticker  ClosePrice\n",
      "0  2023-09-22    VCB        89.3\n"
     ]
    }
   ],
   "source": [
    "conn = pyodbc.connect('Driver={SQL Server};'\n",
    "                      'Server=MSI\\\\SQLEXPRESS;'\n",
    "                      'Database=KLTN;'\n",
    "                      'Trusted_Connection=yes;')\n",
    "\n",
    "sql_query = f\"SELECT [Date], [Ticker], [ClosePrice] FROM [KLTN].[dbo].[KQGD] WHERE [Ticker] = 'VCB'\"\n",
    "\n",
    "df = pd.read_sql_query(sql_query, conn)\n",
    "\n",
    "conn.close()\n",
    "\n",
    "print(df)\n"
   ]
  },
  {
   "cell_type": "code",
   "execution_count": 57,
   "id": "ee77127f",
   "metadata": {},
   "outputs": [],
   "source": [
    "data= df"
   ]
  },
  {
   "cell_type": "code",
   "execution_count": 58,
   "id": "4e1883c0",
   "metadata": {},
   "outputs": [],
   "source": [
    "data = data.tail(1000)\n",
    "data = data.filter(['ClosePrice'])\n"
   ]
  },
  {
   "cell_type": "code",
   "execution_count": 59,
   "id": "bedf923f",
   "metadata": {},
   "outputs": [],
   "source": [
    "#Tiền xử lý\n",
    "data.fillna(0, inplace=True)\n",
    "\n",
    "# Normalize data\n",
    "scaler = MinMaxScaler()\n",
    "dataScale = scaler.fit_transform(data.values.reshape(-1,1))"
   ]
  },
  {
   "cell_type": "code",
   "execution_count": 60,
   "id": "69bcbeaa",
   "metadata": {},
   "outputs": [],
   "source": [
    "# Hàm tính giá trị alpha tối ưu\n",
    "def optimum_alpha(X):\n",
    "    X_max = np.max(X)\n",
    "    X_min = np.min(X)\n",
    "    n = len(X)\n",
    "    return ((X_max - X_min) - (1/n) * np.sum(X)) / (X_max - X_min)\n"
   ]
  },
  {
   "cell_type": "code",
   "execution_count": 61,
   "id": "1f68751f",
   "metadata": {},
   "outputs": [],
   "source": [
    "def smoothed(X, alpha):\n",
    "    S = np.zeros_like(X)\n",
    "    S[0] = X[0]\n",
    "    for i in range(1, len(X)):\n",
    "        S[i] = S[i-1] + alpha*(X[i] - S[i-1])\n",
    "    return S"
   ]
  },
  {
   "cell_type": "code",
   "execution_count": 62,
   "id": "7251f636",
   "metadata": {},
   "outputs": [],
   "source": [
    "alpha = optimum_alpha(dataScale)\n"
   ]
  },
  {
   "cell_type": "code",
   "execution_count": 63,
   "id": "3c775881",
   "metadata": {},
   "outputs": [
    {
     "name": "stdout",
     "output_type": "stream",
     "text": [
      "Giá trị alpha tối ưu: nan\n",
      "Chuỗi ban đầu: [[0.]]\n",
      "Chuỗi đã được làm mịn: [[0.]]\n"
     ]
    }
   ],
   "source": [
    "S = smoothed(dataScale, alpha)\n",
    "print(\"Giá trị alpha tối ưu:\", alpha)\n",
    "print(\"Chuỗi ban đầu:\", dataScale)\n",
    "print(\"Chuỗi đã được làm mịn:\", S)\n"
   ]
  },
  {
   "cell_type": "code",
   "execution_count": 64,
   "id": "4a654244",
   "metadata": {},
   "outputs": [
    {
     "data": {
      "text/plain": [
       "Text(0.5, 1.0, 'Smooth')"
      ]
     },
     "execution_count": 64,
     "metadata": {},
     "output_type": "execute_result"
    },
    {
     "data": {
      "image/png": "[encoded data removed]",
      "text/plain": [
       "<Figure size 640x480 with 2 Axes>"
      ]
     },
     "metadata": {},
     "output_type": "display_data"
    }
   ],
   "source": [
    "import seaborn as sns\n",
    "\n",
    "fig, ax=plt.subplots(1,2)\n",
    "sns.distplot(dataScale, ax=ax[0], color='y')\n",
    "ax[0].set_title(\"Original Data\")\n",
    "\n",
    "\n",
    "sns.distplot(S,ax=ax[1])\n",
    "ax[1].set_title(\"Smooth\")\n"
   ]
  },
  {
   "cell_type": "code",
   "execution_count": 65,
   "id": "d31d27ab",
   "metadata": {},
   "outputs": [],
   "source": [
    "#Chia dữ liệu thành train test\n",
    "data = pd.DataFrame(S)\n",
    "\n",
    "#dataScale = data\n",
    "train_percent = 0.8\n",
    "train_size = int(len(data) * train_percent)\n",
    "train_data = data.iloc[:train_size]\n",
    "test_data = data.iloc[train_size:]"
   ]
  },
  {
   "cell_type": "code",
   "execution_count": 53,
   "id": "3a2f8d1b",
   "metadata": {},
   "outputs": [],
   "source": [
    "#Chuẩn bị dữ liệu để đưa vào mô hình\n",
    "def prepare_data(data, size_window,size_predict,stepWindow):\n",
    "    X, y = [], []\n",
    "    startWindow = 0\n",
    "    for i in range(len(data) - size_window - 1):\n",
    "        if (len(data[(startWindow + size_window):(startWindow + size_window + size_predict) , 0]) != size_predict):\n",
    "            break\n",
    "        X.append(data[startWindow:(startWindow + size_window), :])\n",
    "        y.append(data[(startWindow + size_window):(startWindow + size_window + size_predict) , 0])\n",
    "          \n",
    "       \n",
    "        startWindow += stepWindow\n",
    "    return np.array(X), np.array(y)\n",
    "\n",
    "\n",
    "size_window = 7\n",
    "size_predict = 1\n",
    "stepWindow = 1\n",
    "X_train, y_train = prepare_data(train_data.values, size_window, size_predict, stepWindow)\n",
    "X_test, y_test = prepare_data(test_data.values, size_window, size_predict, stepWindow)"
   ]
  },
  {
   "cell_type": "code",
   "execution_count": 54,
   "id": "9d9a97d2",
   "metadata": {},
   "outputs": [],
   "source": [
    "start_time = time.time()"
   ]
  },
  {
   "cell_type": "code",
   "execution_count": null,
   "id": "253ecf46",
   "metadata": {},
   "outputs": [],
   "source": [
    "lucas_list =[3, 4, 7, 11, 18, 29, 47, 76]\n",
    "lucas_number = lucas_list[1]"
   ]
  },
  {
   "cell_type": "code",
   "execution_count": null,
   "id": "46d5a05c",
   "metadata": {},
   "outputs": [],
   "source": [
    "\n",
    "# Tạo mô hình CNN\n",
    "model = Sequential()\n",
    "model.add(Conv1D(filters=32, kernel_size=2, activation='relu', input_shape=(size_window, 1)))\n",
    "model.add(Conv1D(filters=32, kernel_size=2, activation='relu'))\n",
    "\n",
    "model.add(MaxPooling1D(pool_size=2))\n",
    "\n",
    "model.add(Flatten())\n",
    "for i in range(lucas_number):\n",
    "    model.add(Dense(units=100, activation='relu')) \n",
    "    model.add(Dropout(0.2))\n",
    "    model.add(Dense(units=1))\n",
    "\n",
    "# Compile mô hình với Adam optimizer và Mean Squared Error loss\n",
    "model.compile(loss='mse', optimizer='adam')\n"
   ]
  },
  {
   "cell_type": "code",
   "execution_count": null,
   "id": "df9ca163",
   "metadata": {},
   "outputs": [],
   "source": [
    "history = model.fit(X_train, y_train, epochs=80, batch_size=8)"
   ]
  },
  {
   "cell_type": "code",
   "execution_count": null,
   "id": "c90e8c34",
   "metadata": {},
   "outputs": [],
   "source": [
    "y_pred = model.predict(X_test)\n",
    "end_time = time.time()\n",
    "training_time = end_time - start_time\n",
    "print(f\"Training time: {training_time} seconds\")"
   ]
  },
  {
   "cell_type": "code",
   "execution_count": null,
   "id": "0c0d0ba5",
   "metadata": {},
   "outputs": [],
   "source": [
    "import h5py\n",
    "\n",
    "# Lưu mô hình SCNN\n",
    "model.save(\"SCNN.h5\")\n",
    "\n",
    "# Lưu các thông tin khác vào file H5\n",
    "with h5py.File(\"SCNN_data.h5\", \"w\") as file:\n",
    "    file.create_dataset(\"y_test\", data=y_test)\n",
    "    file.create_dataset(\"X_test\", data=X_test)\n",
    "    file.create_dataset(\"training_time\", data=training_time)\n",
    "    file.create_dataset(\"alpha\", data=alpha)\n",
    "    file.create_dataset(\"S\", data=S)\n",
    "    file.create_dataset(\"dataScale\", data =dataScale)\n"
   ]
  }
 ],
 "metadata": {
  "kernelspec": {
   "display_name": "Python 3 (ipykernel)",
   "language": "python",
   "name": "python3"
  },
  "language_info": {
   "codemirror_mode": {
    "name": "ipython",
    "version": 3
   },
   "file_extension": ".py",
   "mimetype": "text/x-python",
   "name": "python",
   "nbconvert_exporter": "python",
   "pygments_lexer": "ipython3",
   "version": "3.11.3"
  }
 },
 "nbformat": 4,
 "nbformat_minor": 5
}
